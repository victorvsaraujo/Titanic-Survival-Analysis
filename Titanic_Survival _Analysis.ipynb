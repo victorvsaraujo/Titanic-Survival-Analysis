{
 "cells": [
  {
   "cell_type": "code",
   "execution_count": 0,
   "metadata": {
    "application/vnd.databricks.v1+cell": {
     "cellMetadata": {
      "byteLimit": 2048000,
      "rowLimit": 10000
     },
     "collapsed": true,
     "inputWidgets": {},
     "nuid": "3015944a-9403-4a66-90fc-c013ec48f8d4",
     "showTitle": false,
     "tableResultSettingsMap": {},
     "title": ""
    }
   },
   "outputs": [
    {
     "output_type": "stream",
     "name": "stdout",
     "output_type": "stream",
     "text": [
      "+-----------+--------+------+--------------------+------+----+-----+-----+----------------+-------+-----+--------+\n|PassengerId|Survived|Pclass|                Name|   Sex| Age|SibSp|Parch|          Ticket|   Fare|Cabin|Embarked|\n+-----------+--------+------+--------------------+------+----+-----+-----+----------------+-------+-----+--------+\n|          1|       0|     3|Braund, Mr. Owen ...|  male|22.0|    1|    0|       A/5 21171|   7.25| null|       S|\n|          2|       1|     1|Cumings, Mrs. Joh...|female|38.0|    1|    0|        PC 17599|71.2833|  C85|       C|\n|          3|       1|     3|Heikkinen, Miss. ...|female|26.0|    0|    0|STON/O2. 3101282|  7.925| null|       S|\n|          4|       1|     1|Futrelle, Mrs. Ja...|female|35.0|    1|    0|          113803|   53.1| C123|       S|\n|          5|       0|     3|Allen, Mr. Willia...|  male|35.0|    0|    0|          373450|   8.05| null|       S|\n|          6|       0|     3|    Moran, Mr. James|  male|null|    0|    0|          330877| 8.4583| null|       Q|\n|          7|       0|     1|McCarthy, Mr. Tim...|  male|54.0|    0|    0|           17463|51.8625|  E46|       S|\n|          8|       0|     3|Palsson, Master. ...|  male| 2.0|    3|    1|          349909| 21.075| null|       S|\n|          9|       1|     3|Johnson, Mrs. Osc...|female|27.0|    0|    2|          347742|11.1333| null|       S|\n|         10|       1|     2|Nasser, Mrs. Nich...|female|14.0|    1|    0|          237736|30.0708| null|       C|\n+-----------+--------+------+--------------------+------+----+-----+-----+----------------+-------+-----+--------+\nonly showing top 10 rows\n\nroot\n |-- PassengerId: integer (nullable = true)\n |-- Survived: integer (nullable = true)\n |-- Pclass: integer (nullable = true)\n |-- Name: string (nullable = true)\n |-- Sex: string (nullable = true)\n |-- Age: double (nullable = true)\n |-- SibSp: integer (nullable = true)\n |-- Parch: integer (nullable = true)\n |-- Ticket: string (nullable = true)\n |-- Fare: double (nullable = true)\n |-- Cabin: string (nullable = true)\n |-- Embarked: string (nullable = true)\n\n"
     ]
    }
   ],
   "source": [
    "# Caminho do arquivo Titanic\n",
    "file_path = \"dbfs:/FileStore/tables/titanic_data.csv\"\n",
    "\n",
    "# Carregar o arquivo CSV no PySpark\n",
    "titanic_df = spark.read.csv(file_path, header=True, inferSchema=True)\n",
    "\n",
    "# Exibir as primeiras linhas e o esquema do DataFrame\n",
    "titanic_df.show(10)  # Visualizar os dados\n",
    "titanic_df.printSchema()  # Ver o esquema"
   ]
  },
  {
   "cell_type": "markdown",
   "metadata": {
    "application/vnd.databricks.v1+cell": {
     "cellMetadata": {
      "byteLimit": 2048000,
      "rowLimit": 10000
     },
     "inputWidgets": {},
     "nuid": "319d9252-39f3-4801-adc1-6fd3ce8d32d2",
     "showTitle": false,
     "tableResultSettingsMap": {},
     "title": ""
    }
   },
   "source": [
    "# Exclusão de Colunas e Redefinição de Survived"
   ]
  },
  {
   "cell_type": "code",
   "execution_count": 0,
   "metadata": {
    "application/vnd.databricks.v1+cell": {
     "cellMetadata": {
      "byteLimit": 2048000,
      "rowLimit": 10000
     },
     "collapsed": true,
     "inputWidgets": {},
     "nuid": "4a8f9058-b85e-415f-81e5-6778aab13d7b",
     "showTitle": false,
     "tableResultSettingsMap": {},
     "title": ""
    }
   },
   "outputs": [
    {
     "output_type": "stream",
     "name": "stdout",
     "output_type": "stream",
     "text": [
      "+--------------+------+--------------------+------+----+-----+-----+-------+-----+--------+\n|      Survived|Pclass|                Name|   Sex| Age|SibSp|Parch|   Fare|Cabin|Embarked|\n+--------------+------+--------------------+------+----+-----+-----+-------+-----+--------+\n|Não_Sobreviveu|     3|Braund, Mr. Owen ...|  male|22.0|    1|    0|   7.25| null|       S|\n|    Sobreviveu|     1|Cumings, Mrs. Joh...|female|38.0|    1|    0|71.2833|  C85|       C|\n|    Sobreviveu|     3|Heikkinen, Miss. ...|female|26.0|    0|    0|  7.925| null|       S|\n|    Sobreviveu|     1|Futrelle, Mrs. Ja...|female|35.0|    1|    0|   53.1| C123|       S|\n|Não_Sobreviveu|     3|Allen, Mr. Willia...|  male|35.0|    0|    0|   8.05| null|       S|\n|Não_Sobreviveu|     3|    Moran, Mr. James|  male|null|    0|    0| 8.4583| null|       Q|\n|Não_Sobreviveu|     1|McCarthy, Mr. Tim...|  male|54.0|    0|    0|51.8625|  E46|       S|\n|Não_Sobreviveu|     3|Palsson, Master. ...|  male| 2.0|    3|    1| 21.075| null|       S|\n|    Sobreviveu|     3|Johnson, Mrs. Osc...|female|27.0|    0|    2|11.1333| null|       S|\n|    Sobreviveu|     2|Nasser, Mrs. Nich...|female|14.0|    1|    0|30.0708| null|       C|\n+--------------+------+--------------------+------+----+-----+-----+-------+-----+--------+\nonly showing top 10 rows\n\n"
     ]
    }
   ],
   "source": [
    "from pyspark.sql.functions import when\n",
    "\n",
    "# Transformar `Survived` e remover colunas desnecessárias\n",
    "titanic_df = (\n",
    "    titanic_df.drop(\"PassengerId\", \"Ticket\")\n",
    "    .withColumn(\"Survived\", when(titanic_df.Survived == 1, \"Sobreviveu\").otherwise(\"Não_Sobreviveu\"))\n",
    ")\n",
    "\n",
    "# Visualizar as mudanças\n",
    "titanic_df.show(10)"
   ]
  },
  {
   "cell_type": "markdown",
   "metadata": {
    "application/vnd.databricks.v1+cell": {
     "cellMetadata": {
      "byteLimit": 2048000,
      "rowLimit": 10000
     },
     "inputWidgets": {},
     "nuid": "c2e511a3-4ac7-4138-9dd5-6ef2f85af8d8",
     "showTitle": false,
     "tableResultSettingsMap": {},
     "title": ""
    }
   },
   "source": [
    "# Verificação de Valores Ausentes"
   ]
  },
  {
   "cell_type": "code",
   "execution_count": 0,
   "metadata": {
    "application/vnd.databricks.v1+cell": {
     "cellMetadata": {
      "byteLimit": 2048000,
      "rowLimit": 10000
     },
     "collapsed": true,
     "inputWidgets": {},
     "nuid": "091d7ee7-371e-4f4b-85ff-bcaa564d1e9a",
     "showTitle": false,
     "tableResultSettingsMap": {},
     "title": ""
    }
   },
   "outputs": [
    {
     "output_type": "stream",
     "name": "stdout",
     "output_type": "stream",
     "text": [
      "+--------+------+----+---+---+-----+-----+----+-----+--------+\n|Survived|Pclass|Name|Sex|Age|SibSp|Parch|Fare|Cabin|Embarked|\n+--------+------+----+---+---+-----+-----+----+-----+--------+\n|       0|     0|   0|  0|177|    0|    0|   0|  687|       2|\n+--------+------+----+---+---+-----+-----+----+-----+--------+\n\n"
     ]
    }
   ],
   "source": [
    "from pyspark.sql.functions import col, sum\n",
    "\n",
    "# Contar valores ausentes em cada coluna\n",
    "missing_values = (\n",
    "    titanic_df.select([(sum(col(c).isNull().cast(\"int\")).alias(c)) for c in titanic_df.columns])\n",
    ")\n",
    "\n",
    "# Exibir o total de valores ausentes por coluna\n",
    "missing_values.show()"
   ]
  },
  {
   "cell_type": "markdown",
   "metadata": {
    "application/vnd.databricks.v1+cell": {
     "cellMetadata": {
      "byteLimit": 2048000,
      "rowLimit": 10000
     },
     "inputWidgets": {},
     "nuid": "8159181e-50a6-4e87-863d-08cf1faf165b",
     "showTitle": false,
     "tableResultSettingsMap": {},
     "title": ""
    }
   },
   "source": [
    "# Tratamento de Valores Ausentes"
   ]
  },
  {
   "cell_type": "code",
   "execution_count": 0,
   "metadata": {
    "application/vnd.databricks.v1+cell": {
     "cellMetadata": {
      "byteLimit": 2048000,
      "rowLimit": 10000
     },
     "collapsed": true,
     "inputWidgets": {},
     "nuid": "6df84e39-e5af-4e16-a006-c13f2e22b1f1",
     "showTitle": false,
     "tableResultSettingsMap": {},
     "title": ""
    }
   },
   "outputs": [
    {
     "output_type": "stream",
     "name": "stdout",
     "output_type": "stream",
     "text": [
      "+--------+------+----+---+---+-----+-----+----+-----+--------+\n|Survived|Pclass|Name|Sex|Age|SibSp|Parch|Fare|Cabin|Embarked|\n+--------+------+----+---+---+-----+-----+----+-----+--------+\n|       0|     0|   0|  0|  0|    0|    0|   0|    0|       0|\n+--------+------+----+---+---+-----+-----+----+-----+--------+\n\n"
     ]
    }
   ],
   "source": [
    "from pyspark.sql.functions import mean, lit, expr\n",
    "\n",
    "# Tratamento da coluna Age\n",
    "mean_age = titanic_df.select(mean(col(\"Age\"))).first()[0]\n",
    "titanic_df = titanic_df.fillna({\"Age\": mean_age})\n",
    "\n",
    "# Tratamento da coluna Cabin\n",
    "titanic_df = titanic_df.fillna({\"Cabin\": \"Unknown\"})\n",
    "\n",
    "# Tratamento da coluna Embarked\n",
    "mode_embarked = titanic_df.groupBy(\"Embarked\").count().orderBy(\"count\", ascending=False).first()[0]\n",
    "titanic_df = titanic_df.fillna({\"Embarked\": mode_embarked})\n",
    "\n",
    "# Verificar novamente os valores ausentes\n",
    "titanic_df.select([(sum(col(c).isNull().cast(\"int\")).alias(c)) for c in titanic_df.columns]).show()"
   ]
  },
  {
   "cell_type": "markdown",
   "metadata": {
    "application/vnd.databricks.v1+cell": {
     "cellMetadata": {
      "byteLimit": 2048000,
      "rowLimit": 10000
     },
     "inputWidgets": {},
     "nuid": "461bee2b-85a5-43f2-b762-0d73452c5491",
     "showTitle": false,
     "tableResultSettingsMap": {},
     "title": ""
    }
   },
   "source": [
    "# Estatísticas Descritivas"
   ]
  },
  {
   "cell_type": "code",
   "execution_count": 0,
   "metadata": {
    "application/vnd.databricks.v1+cell": {
     "cellMetadata": {
      "byteLimit": 2048000,
      "rowLimit": 10000
     },
     "collapsed": true,
     "inputWidgets": {},
     "nuid": "068a0feb-de76-40f3-a908-c423569f6635",
     "showTitle": false,
     "tableResultSettingsMap": {},
     "title": ""
    }
   },
   "outputs": [
    {
     "output_type": "stream",
     "name": "stdout",
     "output_type": "stream",
     "text": [
      "+-------+--------------+------------------+--------------------+------+------------------+------------------+-------------------+-----------------+-------+--------+----------+\n|summary|      Survived|            Pclass|                Name|   Sex|               Age|             SibSp|              Parch|             Fare|  Cabin|Embarked|Fare_Range|\n+-------+--------------+------------------+--------------------+------+------------------+------------------+-------------------+-----------------+-------+--------+----------+\n|  count|           891|               891|                 891|   891|               891|               891|                891|              891|    891|     891|       891|\n|   mean|          null| 2.308641975308642|                null|  null|29.699117647058763|0.5230078563411896|0.38159371492704824| 32.2042079685746|   null|    null|      null|\n| stddev|          null|0.8360712409770491|                null|  null|13.002015226002891|1.1027434322934315| 0.8060572211299488|49.69342859718089|   null|    null|      null|\n|    min|Não_Sobreviveu|                 1|\"Andersson, Mr. A...|female|              0.42|                 0|                  0|              0.0|    A10|       C|      Alto|\n|    max|    Sobreviveu|                 3|van Melkebeke, Mr...|  male|              80.0|                 8|                  6|         512.3292|Unknown|       S|     Medio|\n+-------+--------------+------------------+--------------------+------+------------------+------------------+-------------------+-----------------+-------+--------+----------+\n\nSkewness:\n+-------------------+------------------+-----------------+-----------------+-----------------+\n|             Pclass|               Age|            SibSp|            Parch|             Fare|\n+-------------------+------------------+-----------------+-----------------+-----------------+\n|-0.6294858816096928|0.4337562902461258|3.689127684775962|2.744486737920368|4.779253292372357|\n+-------------------+------------------+-----------------+-----------------+-----------------+\n\nKurtosis:\n+-------------------+-----------------+------------------+-----------------+-----------------+\n|             Pclass|              Age|             SibSp|            Parch|             Fare|\n+-------------------+-----------------+------------------+-----------------+-----------------+\n|-1.2795696818700353|0.954138915782047|17.773511746920942|9.716613236667245|33.20428925264468|\n+-------------------+-----------------+------------------+-----------------+-----------------+\n\nSum:\n+------+------------------+-----+-----+------------------+\n|Pclass|               Age|SibSp|Parch|              Fare|\n+------+------------------+-----+-----+------------------+\n|  2057|26461.913823529358|  466|  340|28693.949299999967|\n+------+------------------+-----+-----+------------------+\n\nStandard Deviation (std):\n+------------------+------------------+------------------+------------------+-----------------+\n|            Pclass|               Age|             SibSp|             Parch|             Fare|\n+------------------+------------------+------------------+------------------+-----------------+\n|0.8360712409770491|13.002015226002891|1.1027434322934315|0.8060572211299488|49.69342859718089|\n+------------------+------------------+------------------+------------------+-----------------+\n\n"
     ]
    }
   ],
   "source": [
    "from pyspark.sql.functions import col, skewness, kurtosis, sum as sum_, stddev\n",
    "from pyspark.sql.types import IntegerType, DoubleType\n",
    "\n",
    "# Calcular estatísticas descritivas para todas as colunas numéricas\n",
    "descriptive_stats = titanic_df.describe()\n",
    "\n",
    "# Exibir as estatísticas principais\n",
    "descriptive_stats.show()\n",
    "\n",
    "# Calcular skewness e kurtosis para as colunas numéricas\n",
    "skewness_values = titanic_df.select([skewness(c).alias(c) for c in titanic_df.columns if isinstance(titanic_df.schema[c].dataType, (IntegerType, DoubleType))])\n",
    "kurtosis_values = titanic_df.select([kurtosis(c).alias(c) for c in titanic_df.columns if isinstance(titanic_df.schema[c].dataType, (IntegerType, DoubleType))])\n",
    "\n",
    "# Exibir os resultados de skewness e kurtosis\n",
    "print(\"Skewness:\")\n",
    "skewness_values.show()\n",
    "\n",
    "print(\"Kurtosis:\")\n",
    "kurtosis_values.show()\n",
    "\n",
    "# Calcular sum e stddev para as colunas numéricas\n",
    "sum_values = titanic_df.select([sum_(c).alias(c) for c in titanic_df.columns if isinstance(titanic_df.schema[c].dataType, (IntegerType, DoubleType))])\n",
    "stddev_values = titanic_df.select([stddev(c).alias(c) for c in titanic_df.columns if isinstance(titanic_df.schema[c].dataType, (IntegerType, DoubleType))])\n",
    "\n",
    "# Exibir os resultados de sum e stddev\n",
    "print(\"Sum:\")\n",
    "sum_values.show()\n",
    "\n",
    "print(\"Standard Deviation (std):\")\n",
    "stddev_values.show()"
   ]
  },
  {
   "cell_type": "markdown",
   "metadata": {
    "application/vnd.databricks.v1+cell": {
     "cellMetadata": {
      "byteLimit": 2048000,
      "rowLimit": 10000
     },
     "inputWidgets": {},
     "nuid": "926c6486-e98b-4b41-9806-278214a9718d",
     "showTitle": false,
     "tableResultSettingsMap": {},
     "title": ""
    }
   },
   "source": [
    "# Matriz de Correlação"
   ]
  },
  {
   "cell_type": "code",
   "execution_count": 0,
   "metadata": {
    "application/vnd.databricks.v1+cell": {
     "cellMetadata": {
      "byteLimit": 2048000,
      "rowLimit": 10000
     },
     "collapsed": true,
     "inputWidgets": {},
     "nuid": "94521713-d3e0-464b-ae19-158fb4f50811",
     "showTitle": false,
     "tableResultSettingsMap": {},
     "title": ""
    }
   },
   "outputs": [
    {
     "output_type": "stream",
     "name": "stdout",
     "output_type": "stream",
     "text": [
      "Matriz de Correlação:\n          Survived    Pclass       Age     SibSp     Parch      Fare\nSurvived  1.000000 -0.338481 -0.069809 -0.035322  0.081629  0.257307\nPclass   -0.338481  1.000000 -0.331339  0.083081  0.018443 -0.549500\nAge      -0.069809 -0.331339  1.000000 -0.232625 -0.179191  0.091566\nSibSp    -0.035322  0.083081 -0.232625  1.000000  0.414838  0.159651\nParch     0.081629  0.018443 -0.179191  0.414838  1.000000  0.216225\nFare      0.257307 -0.549500  0.091566  0.159651  0.216225  1.000000\n\nCorrelação com Survived:\nSurvived    1.000000\nFare        0.257307\nParch       0.081629\nSibSp      -0.035322\nAge        -0.069809\nPclass     -0.338481\nName: Survived, dtype: float64\n"
     ]
    }
   ],
   "source": [
    "pandas_df = titanic_df.toPandas()\n",
    "\n",
    "# Converter temporariamente 'Survived' de volta para valores numéricos\n",
    "pandas_df[\"Survived\"] = pandas_df[\"Survived\"].map({\"Sobreviveu\": 1, \"Não_Sobreviveu\": 0})\n",
    "\n",
    "# Calcular a matriz de correlação\n",
    "correlation_matrix = pandas_df.corr()\n",
    "\n",
    "# Exibir a matriz de correlação\n",
    "print(\"Matriz de Correlação:\")\n",
    "print(correlation_matrix)\n",
    "\n",
    "# Identificar correlação com 'Survived'\n",
    "print(\"\\nCorrelação com Survived:\")\n",
    "print(correlation_matrix[\"Survived\"].sort_values(ascending=False))"
   ]
  },
  {
   "cell_type": "markdown",
   "metadata": {
    "application/vnd.databricks.v1+cell": {
     "cellMetadata": {
      "byteLimit": 2048000,
      "rowLimit": 10000
     },
     "inputWidgets": {},
     "nuid": "d55b2c92-acd6-4490-88a1-0364ae2f15c8",
     "showTitle": false,
     "tableResultSettingsMap": {},
     "title": ""
    }
   },
   "source": [
    "# Porcentagem de Sobrevivência por Sexo"
   ]
  },
  {
   "cell_type": "code",
   "execution_count": 0,
   "metadata": {
    "application/vnd.databricks.v1+cell": {
     "cellMetadata": {
      "byteLimit": 2048000,
      "rowLimit": 10000
     },
     "collapsed": true,
     "inputWidgets": {},
     "nuid": "0044d0b5-d746-4631-8224-66ba95f410d5",
     "showTitle": false,
     "tableResultSettingsMap": {},
     "title": ""
    }
   },
   "outputs": [
    {
     "output_type": "stream",
     "name": "stdout",
     "output_type": "stream",
     "text": [
      "+------+-----+-------------+------------------------+\n|   Sex|Total|Sobreviventes|Percentual_Sobrevivencia|\n+------+-----+-------------+------------------------+\n|female|  314|          233|       74.20382165605095|\n|  male|  577|          109|      18.890814558058924|\n+------+-----+-------------+------------------------+\n\n"
     ]
    }
   ],
   "source": [
    "# Calcular o total de sobreviventes por sexo\n",
    "total_por_sexo = titanic_df.groupBy(\"Sex\").count().withColumnRenamed(\"count\", \"Total\")\n",
    "sobreviventes_por_sexo = titanic_df.filter(titanic_df[\"Survived\"] == \"Sobreviveu\") \\\n",
    "                                   .groupBy(\"Sex\").count().withColumnRenamed(\"count\", \"Sobreviventes\")\n",
    "\n",
    "# Juntar os resultados\n",
    "percentual_sobrevivencia = total_por_sexo.join(sobreviventes_por_sexo, \"Sex\") \\\n",
    "                                         .withColumn(\"Percentual_Sobrevivencia\", \n",
    "                                                     (sobreviventes_por_sexo[\"Sobreviventes\"] / total_por_sexo[\"Total\"]) * 100)\n",
    "\n",
    "percentual_sobrevivencia.show()\n"
   ]
  },
  {
   "cell_type": "markdown",
   "metadata": {
    "application/vnd.databricks.v1+cell": {
     "cellMetadata": {
      "byteLimit": 2048000,
      "rowLimit": 10000
     },
     "inputWidgets": {},
     "nuid": "17589ee3-7609-4292-9d50-09d5463b6a55",
     "showTitle": false,
     "tableResultSettingsMap": {},
     "title": ""
    }
   },
   "source": [
    "# Média do Valor Pago por Sexo"
   ]
  },
  {
   "cell_type": "code",
   "execution_count": 0,
   "metadata": {
    "application/vnd.databricks.v1+cell": {
     "cellMetadata": {
      "byteLimit": 2048000,
      "rowLimit": 10000
     },
     "collapsed": true,
     "inputWidgets": {},
     "nuid": "f71d2453-f6ce-43ef-b746-8a4dfb3f465d",
     "showTitle": false,
     "tableResultSettingsMap": {},
     "title": ""
    }
   },
   "outputs": [
    {
     "output_type": "stream",
     "name": "stdout",
     "output_type": "stream",
     "text": [
      "+------+------------------+\n|   Sex|        Media_Fare|\n+------+------------------+\n|female| 44.47981783439487|\n|  male|25.523893414211418|\n+------+------------------+\n\n"
     ]
    }
   ],
   "source": [
    "# Calcular a média de 'Fare' por sexo\n",
    "media_fare_por_sexo = titanic_df.groupBy(\"Sex\").agg({\"Fare\": \"mean\"}) \\\n",
    "                                .withColumnRenamed(\"avg(Fare)\", \"Media_Fare\")\n",
    "\n",
    "media_fare_por_sexo.show()"
   ]
  },
  {
   "cell_type": "markdown",
   "metadata": {
    "application/vnd.databricks.v1+cell": {
     "cellMetadata": {
      "byteLimit": 2048000,
      "rowLimit": 10000
     },
     "inputWidgets": {},
     "nuid": "ff020ae7-fdf6-4d0f-a0ff-58d9337c5d54",
     "showTitle": false,
     "tableResultSettingsMap": {},
     "title": ""
    }
   },
   "source": [
    "# Média do Valor Pago por Classe"
   ]
  },
  {
   "cell_type": "code",
   "execution_count": 0,
   "metadata": {
    "application/vnd.databricks.v1+cell": {
     "cellMetadata": {
      "byteLimit": 2048000,
      "rowLimit": 10000
     },
     "collapsed": true,
     "inputWidgets": {},
     "nuid": "528ec0af-255c-4fb0-98fd-d5a08eb90a2b",
     "showTitle": false,
     "tableResultSettingsMap": {},
     "title": ""
    }
   },
   "outputs": [
    {
     "output_type": "stream",
     "name": "stdout",
     "output_type": "stream",
     "text": [
      "+------+------------------+\n|Pclass|        Media_Fare|\n+------+------------------+\n|     1| 84.15468749999992|\n|     2| 20.66218315217391|\n|     3|13.675550101832997|\n+------+------------------+\n\n"
     ]
    }
   ],
   "source": [
    "# Calcular a média de 'Fare' por classe (Pclass)\n",
    "media_fare_por_classe = titanic_df.groupBy(\"Pclass\").agg({\"Fare\": \"mean\"}) \\\n",
    "                                  .withColumnRenamed(\"avg(Fare)\", \"Media_Fare\") \\\n",
    "                                   .orderBy(\"Media_Fare\", ascending=False)\n",
    "\n",
    "media_fare_por_classe.show()"
   ]
  },
  {
   "cell_type": "markdown",
   "metadata": {
    "application/vnd.databricks.v1+cell": {
     "cellMetadata": {
      "byteLimit": 2048000,
      "rowLimit": 10000
     },
     "inputWidgets": {},
     "nuid": "4fca86c1-7f80-4072-9ba2-2a08c8ce1a05",
     "showTitle": false,
     "tableResultSettingsMap": {},
     "title": ""
    }
   },
   "source": [
    "# Média do Valor Pago por Local de Embarque"
   ]
  },
  {
   "cell_type": "code",
   "execution_count": 0,
   "metadata": {
    "application/vnd.databricks.v1+cell": {
     "cellMetadata": {
      "byteLimit": 2048000,
      "rowLimit": 10000
     },
     "collapsed": true,
     "inputWidgets": {},
     "nuid": "b42b3530-3c56-4017-89c3-ad9b5392a8c3",
     "showTitle": false,
     "tableResultSettingsMap": {},
     "title": ""
    }
   },
   "outputs": [
    {
     "output_type": "stream",
     "name": "stdout",
     "output_type": "stream",
     "text": [
      "+--------+------------------+\n|Embarked|        Media_Fare|\n+--------+------------------+\n|       C| 59.95414404761905|\n|       S|27.243651393188795|\n|       Q|13.276029870129872|\n+--------+------------------+\n\n"
     ]
    }
   ],
   "source": [
    "# Calcular a média de 'Fare' por local de embarque (Embarked)\n",
    "media_fare_por_embarque = titanic_df.groupBy(\"Embarked\").agg({\"Fare\": \"mean\"}) \\\n",
    "                                    .withColumnRenamed(\"avg(Fare)\", \"Media_Fare\") \\\n",
    "                                     .orderBy(\"Media_Fare\", ascending=False)\n",
    "\n",
    "media_fare_por_embarque.show()"
   ]
  },
  {
   "cell_type": "markdown",
   "metadata": {
    "application/vnd.databricks.v1+cell": {
     "cellMetadata": {
      "byteLimit": 2048000,
      "rowLimit": 10000
     },
     "inputWidgets": {},
     "nuid": "2ddcd70d-eb58-444f-9b8b-d1a25393424a",
     "showTitle": false,
     "tableResultSettingsMap": {},
     "title": ""
    }
   },
   "source": [
    "# Contagem de Passageiros por Local de Embarque"
   ]
  },
  {
   "cell_type": "code",
   "execution_count": 0,
   "metadata": {
    "application/vnd.databricks.v1+cell": {
     "cellMetadata": {
      "byteLimit": 2048000,
      "rowLimit": 10000
     },
     "collapsed": true,
     "inputWidgets": {},
     "nuid": "b3ba20aa-ecbc-4d92-9466-bb6b6eb0bc12",
     "showTitle": false,
     "tableResultSettingsMap": {},
     "title": ""
    }
   },
   "outputs": [
    {
     "output_type": "stream",
     "name": "stdout",
     "output_type": "stream",
     "text": [
      "+--------+-----------------+\n|Embarked|Total_Passageiros|\n+--------+-----------------+\n|       Q|               77|\n|       C|              168|\n|       S|              646|\n+--------+-----------------+\n\n"
     ]
    }
   ],
   "source": [
    "# Contar passageiros por local de embarque\n",
    "contagem_embarque = titanic_df.groupBy(\"Embarked\").count().withColumnRenamed(\"count\", \"Total_Passageiros\")\n",
    "\n",
    "contagem_embarque.show()"
   ]
  },
  {
   "cell_type": "markdown",
   "metadata": {
    "application/vnd.databricks.v1+cell": {
     "cellMetadata": {
      "byteLimit": 2048000,
      "rowLimit": 10000
     },
     "inputWidgets": {},
     "nuid": "466d5565-8686-4c90-b39f-53304534931e",
     "showTitle": false,
     "tableResultSettingsMap": {},
     "title": ""
    }
   },
   "source": [
    "# Análise de Tarifa Média por Embarque, Sexo e Classe"
   ]
  },
  {
   "cell_type": "code",
   "execution_count": 0,
   "metadata": {
    "application/vnd.databricks.v1+cell": {
     "cellMetadata": {
      "byteLimit": 2048000,
      "rowLimit": 10000
     },
     "collapsed": true,
     "inputWidgets": {},
     "nuid": "b0b0f6d9-c690-48cd-8e41-5499e895367d",
     "showTitle": false,
     "tableResultSettingsMap": {},
     "title": ""
    }
   },
   "outputs": [
    {
     "output_type": "stream",
     "name": "stdout",
     "output_type": "stream",
     "text": [
      "+--------+------+------+----------+------------------+\n|Embarked|   Sex|Pclass|Count_Fare|         Mean_Fare|\n+--------+------+------+----------+------------------+\n|       C|female|     1|        43| 115.6403093023256|\n|       C|female|     2|         7|25.268457142857148|\n|       C|female|     3|        23|14.694926086956524|\n|       C|  male|     1|        42| 93.53670714285715|\n|       C|  male|     2|        10|25.421249999999997|\n|       C|  male|     3|        43| 9.352237209302325|\n|       Q|female|     1|         1|              90.0|\n|       Q|female|     2|         2|             12.35|\n|       Q|female|     3|        33|10.307833333333331|\n|       Q|  male|     1|         1|              90.0|\n|       Q|  male|     2|         1|             12.35|\n|       Q|  male|     3|        39| 11.92425128205128|\n|       S|female|     1|        50| 98.26583399999998|\n|       S|female|     2|        67| 21.91268656716418|\n|       S|female|     3|        88| 18.67007727272727|\n|       S|  male|     1|        79| 52.94994683544305|\n|       S|  male|     2|        97|19.232474226804122|\n|       S|  male|     3|       265| 13.30714905660378|\n+--------+------+------+----------+------------------+\n\n"
     ]
    }
   ],
   "source": [
    "# Agrupando por 'Embarked', 'Sex' e 'Pclass' para calcular a contagem e a média de 'Fare'\n",
    "from pyspark.sql.functions import count, mean\n",
    "\n",
    "analise_fare = (\n",
    "    titanic_df.groupBy(\"Embarked\", \"Sex\", \"Pclass\")\n",
    "    .agg(\n",
    "        count(\"Fare\").alias(\"Count_Fare\"),\n",
    "        mean(\"Fare\").alias(\"Mean_Fare\")\n",
    "    )\n",
    "    .orderBy(\"Embarked\", \"Sex\", \"Pclass\")\n",
    ")\n",
    "\n",
    "analise_fare.show()"
   ]
  },
  {
   "cell_type": "markdown",
   "metadata": {
    "application/vnd.databricks.v1+cell": {
     "cellMetadata": {
      "byteLimit": 2048000,
      "rowLimit": 10000
     },
     "inputWidgets": {},
     "nuid": "0335ac3c-b581-4ca0-9a90-0a0805e7dd4d",
     "showTitle": false,
     "tableResultSettingsMap": {},
     "title": ""
    }
   },
   "source": [
    "# Outliers em Fare"
   ]
  },
  {
   "cell_type": "code",
   "execution_count": 0,
   "metadata": {
    "application/vnd.databricks.v1+cell": {
     "cellMetadata": {
      "byteLimit": 2048000,
      "rowLimit": 10000
     },
     "collapsed": true,
     "inputWidgets": {},
     "nuid": "f58fbc2a-6f11-4d6f-bbbc-6da8f97b0501",
     "showTitle": false,
     "tableResultSettingsMap": {},
     "title": ""
    }
   },
   "outputs": [
    {
     "output_type": "stream",
     "name": "stdout",
     "output_type": "stream",
     "text": [
      "Outliers identificados: 116\n+--------------+------+--------------------+------+-----------------+-----+-----+--------+-----------+--------+\n|      Survived|Pclass|                Name|   Sex|              Age|SibSp|Parch|    Fare|      Cabin|Embarked|\n+--------------+------+--------------------+------+-----------------+-----+-----+--------+-----------+--------+\n|    Sobreviveu|     1|Cumings, Mrs. Joh...|female|             38.0|    1|    0| 71.2833|        C85|       C|\n|Não_Sobreviveu|     1|Fortune, Mr. Char...|  male|             19.0|    3|    2|   263.0|C23 C25 C27|       S|\n|    Sobreviveu|     1|Spencer, Mrs. Wil...|female|29.69911764705882|    1|    0|146.5208|        B78|       C|\n|Não_Sobreviveu|     1|Meyer, Mr. Edgar ...|  male|             28.0|    1|    0| 82.1708|    Unknown|       C|\n|    Sobreviveu|     1|Harper, Mrs. Henr...|female|             49.0|    1|    0| 76.7292|        D33|       C|\n|    Sobreviveu|     1| Icard, Miss. Amelie|female|             38.0|    0|    0|    80.0|        B28|       S|\n|Não_Sobreviveu|     1|Harris, Mr. Henry...|  male|             45.0|    1|    0|  83.475|        C83|       S|\n|Não_Sobreviveu|     2|Hood, Mr. Ambrose Jr|  male|             21.0|    0|    0|    73.5|    Unknown|       S|\n|    Sobreviveu|     1|Fortune, Miss. Ma...|female|             23.0|    3|    2|   263.0|C23 C25 C27|       S|\n|Não_Sobreviveu|     1|White, Mr. Richar...|  male|             21.0|    0|    1| 77.2875|        D26|       S|\n|Não_Sobreviveu|     1|Baxter, Mr. Quigg...|  male|             24.0|    0|    1|247.5208|    B58 B60|       C|\n|Não_Sobreviveu|     2|Hickman, Mr. Stan...|  male|             21.0|    2|    0|    73.5|    Unknown|       S|\n|Não_Sobreviveu|     1|White, Mr. Perciv...|  male|             54.0|    0|    1| 77.2875|        D26|       S|\n|Não_Sobreviveu|     1|  Giglio, Mr. Victor|  male|             24.0|    0|    0|    79.2|        B86|       C|\n|    Sobreviveu|     1|Pears, Mrs. Thoma...|female|             22.0|    1|    0|    66.6|         C2|       S|\n|Não_Sobreviveu|     3|Sage, Master. Tho...|  male|29.69911764705882|    8|    2|   69.55|    Unknown|       S|\n|Não_Sobreviveu|     3|Sage, Miss. Const...|female|29.69911764705882|    8|    2|   69.55|    Unknown|       S|\n|    Sobreviveu|     1|Lurette, Miss. Elise|female|             58.0|    0|    0|146.5208|        B80|       C|\n|Não_Sobreviveu|     3| Sage, Mr. Frederick|  male|29.69911764705882|    8|    2|   69.55|    Unknown|       S|\n|    Sobreviveu|     1|Newell, Miss. Mad...|female|             31.0|    1|    0| 113.275|        D36|       C|\n+--------------+------+--------------------+------+-----------------+-----+-----+--------+-----------+--------+\nonly showing top 20 rows\n\n"
     ]
    }
   ],
   "source": [
    "# Calcular os quartis e o intervalo interquartil (IQR)\n",
    "fare_stats = titanic_df.selectExpr(\"percentile_approx(Fare, 0.25) as Q1\", \n",
    "                                   \"percentile_approx(Fare, 0.75) as Q3\").collect()\n",
    "Q1 = fare_stats[0][\"Q1\"]\n",
    "Q3 = fare_stats[0][\"Q3\"]\n",
    "IQR = Q3 - Q1\n",
    "\n",
    "# Limites para outliers\n",
    "lower_limit = Q1 - 1.5 * IQR\n",
    "upper_limit = Q3 + 1.5 * IQR\n",
    "\n",
    "# Identificar valores fora do intervalo\n",
    "outliers_fare = titanic_df.filter((titanic_df[\"Fare\"] < lower_limit) | (titanic_df[\"Fare\"] > upper_limit))\n",
    "print(f\"Outliers identificados: {outliers_fare.count()}\")\n",
    "\n",
    "outliers_fare.show()"
   ]
  },
  {
   "cell_type": "markdown",
   "metadata": {
    "application/vnd.databricks.v1+cell": {
     "cellMetadata": {
      "byteLimit": 2048000,
      "rowLimit": 10000
     },
     "inputWidgets": {},
     "nuid": "9d2486d2-6764-4094-a9b8-413e172200b8",
     "showTitle": false,
     "tableResultSettingsMap": {},
     "title": ""
    }
   },
   "source": [
    "# Categorizar Fare em Faixas"
   ]
  },
  {
   "cell_type": "code",
   "execution_count": 0,
   "metadata": {
    "application/vnd.databricks.v1+cell": {
     "cellMetadata": {
      "byteLimit": 2048000,
      "rowLimit": 10000
     },
     "collapsed": true,
     "inputWidgets": {},
     "nuid": "63dfe75a-13c4-478d-8059-a66315468a7a",
     "showTitle": false,
     "tableResultSettingsMap": {},
     "title": ""
    }
   },
   "outputs": [
    {
     "output_type": "stream",
     "name": "stdout",
     "output_type": "stream",
     "text": [
      "+----------+-----+\n|Fare_Range|count|\n+----------+-----+\n|     Baixo|  185|\n|     Medio|  484|\n|      Alto|  222|\n+----------+-----+\n\n"
     ]
    }
   ],
   "source": [
    "# Criar categorias para 'Fare'\n",
    "from pyspark.sql.functions import when\n",
    "\n",
    "titanic_df = titanic_df.withColumn(\n",
    "    \"Fare_Range\",\n",
    "    when(titanic_df[\"Fare\"] < Q1, \"Baixo\")\n",
    "    .when(titanic_df[\"Fare\"] > Q3, \"Alto\")\n",
    "    .otherwise(\"Medio\")\n",
    ")\n",
    "\n",
    "titanic_df.groupBy(\"Fare_Range\").count().show()"
   ]
  }
 ],
 "metadata": {
  "application/vnd.databricks.v1+notebook": {
   "dashboards": [],
   "environmentMetadata": null,
   "language": "python",
   "notebookMetadata": {
    "pythonIndentUnit": 4
   },
   "notebookName": "Titanic_Survival _Analysis",
   "widgets": {}
  }
 },
 "nbformat": 4,
 "nbformat_minor": 0
}
